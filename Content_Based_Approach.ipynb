{
  "nbformat": 4,
  "nbformat_minor": 0,
  "metadata": {
    "colab": {
      "provenance": [],
      "authorship_tag": "ABX9TyMV1+CHjubW175gycetRCGX",
      "include_colab_link": true
    },
    "kernelspec": {
      "name": "python3",
      "display_name": "Python 3"
    },
    "language_info": {
      "name": "python"
    }
  },
  "cells": [
    {
      "cell_type": "markdown",
      "metadata": {
        "id": "view-in-github",
        "colab_type": "text"
      },
      "source": [
        "<a href=\"https://colab.research.google.com/github/72venkatesh/News_Recommendation/blob/main/Content_Based_Approach.ipynb\" target=\"_parent\"><img src=\"https://colab.research.google.com/assets/colab-badge.svg\" alt=\"Open In Colab\"/></a>"
      ]
    },
    {
      "cell_type": "code",
      "source": [
        "import pandas as pd\n",
        "from sklearn.feature_extraction.text import TfidfVectorizer\n",
        "from sklearn.metrics.pairwise import cosine_similarity"
      ],
      "metadata": {
        "id": "Br_EVu9GTlze"
      },
      "execution_count": null,
      "outputs": []
    },
    {
      "cell_type": "code",
      "source": [
        "df = pd.read_csv('output.csv', on_bad_lines='skip')\n",
        "df.head()"
      ],
      "metadata": {
        "colab": {
          "base_uri": "https://localhost:8080/",
          "height": 692
        },
        "id": "sTFTvh3H8_N3",
        "outputId": "84721e84-14e8-4e1b-cb6a-25568e5e4672"
      },
      "execution_count": null,
      "outputs": [
        {
          "output_type": "execute_result",
          "data": {
            "text/plain": [
              "   N55528 lifestyle lifestyleroyals  \\\n",
              "0  N19639    health      weightloss   \n",
              "1  N61837      news       newsworld   \n",
              "2  N53526    health          voices   \n",
              "3  N38324    health         medical   \n",
              "4   N2073    sports    football_nfl   \n",
              "\n",
              "  The Brands Queen Elizabeth, Prince Charles, and Prince Philip Swear By  \\\n",
              "0                      50 Worst Habits For Belly Fat                       \n",
              "1  The Cost of Trump's Aid Freeze in the Trenches...                       \n",
              "2  I Was An NBA Wife. Here's How It Affected My M...                       \n",
              "3  How to Get Rid of Skin Tags, According to a De...                       \n",
              "4  Should NFL be able to fine players for critici...                       \n",
              "\n",
              "  Shop the notebooks, jackets, and more that the royals can't live without.  \\\n",
              "0  These seemingly harmless habits are holding yo...                          \n",
              "1  Lt. Ivan Molchanets peeked over a parapet of s...                          \n",
              "2  I felt like I was a fraud, and being an NBA wi...                          \n",
              "3  They seem harmless, but there's a very good re...                          \n",
              "4  Several fines came down against NFL players fo...                          \n",
              "\n",
              "   https://assets.msn.com/labs/mind/AAGH0ET.html  \\\n",
              "0  https://assets.msn.com/labs/mind/AAB19MK.html   \n",
              "1  https://assets.msn.com/labs/mind/AAJgNsz.html   \n",
              "2  https://assets.msn.com/labs/mind/AACk2N6.html   \n",
              "3  https://assets.msn.com/labs/mind/AAAKEkt.html   \n",
              "4  https://assets.msn.com/labs/mind/AAJ4lap.html   \n",
              "\n",
              "  [{\"Label\": \"Prince Philip, Duke of Edinburgh\", \"Type\": \"P\", \"WikidataId\": \"Q80976\", \"Confidence\": 1.0, \"OccurrenceOffsets\": [48], \"SurfaceForms\": [\"Prince Philip\"]}, {\"Label\": \"Charles, Prince of Wales\", \"Type\": \"P\", \"WikidataId\": \"Q43274\", \"Confidence\": 1.0, \"OccurrenceOffsets\": [28], \"SurfaceForms\": [\"Prince Charles\"]}, {\"Label\": \"Elizabeth II\", \"Type\": \"P\", \"WikidataId\": \"Q9682\", \"Confidence\": 0.97, \"OccurrenceOffsets\": [11], \"SurfaceForms\": [\"Queen Elizabeth\"]}]  \\\n",
              "0  [{\"Label\": \"Adipose tissue\", \"Type\": \"C\", \"Wik...                                                                                                                                                                                                                                                                                                                                                                                                                                       \n",
              "1                                                 []                                                                                                                                                                                                                                                                                                                                                                                                                                       \n",
              "2                                                 []                                                                                                                                                                                                                                                                                                                                                                                                                                       \n",
              "3  [{\"Label\": \"Skin tag\", \"Type\": \"C\", \"WikidataI...                                                                                                                                                                                                                                                                                                                                                                                                                                       \n",
              "4  [{\"Label\": \"National Football League\", \"Type\":...                                                                                                                                                                                                                                                                                                                                                                                                                                       \n",
              "\n",
              "                                                  []  \n",
              "0  [{\"Label\": \"Adipose tissue\", \"Type\": \"C\", \"Wik...  \n",
              "1  [{\"Label\": \"Ukraine\", \"Type\": \"G\", \"WikidataId...  \n",
              "2  [{\"Label\": \"National Basketball Association\", ...  \n",
              "3  [{\"Label\": \"Skin tag\", \"Type\": \"C\", \"WikidataI...  \n",
              "4  [{\"Label\": \"National Football League\", \"Type\":...  "
            ],
            "text/html": [
              "\n",
              "  <div id=\"df-97d0592d-1f5b-4b0b-a243-7b5a50f7eeb7\" class=\"colab-df-container\">\n",
              "    <div>\n",
              "<style scoped>\n",
              "    .dataframe tbody tr th:only-of-type {\n",
              "        vertical-align: middle;\n",
              "    }\n",
              "\n",
              "    .dataframe tbody tr th {\n",
              "        vertical-align: top;\n",
              "    }\n",
              "\n",
              "    .dataframe thead th {\n",
              "        text-align: right;\n",
              "    }\n",
              "</style>\n",
              "<table border=\"1\" class=\"dataframe\">\n",
              "  <thead>\n",
              "    <tr style=\"text-align: right;\">\n",
              "      <th></th>\n",
              "      <th>N55528</th>\n",
              "      <th>lifestyle</th>\n",
              "      <th>lifestyleroyals</th>\n",
              "      <th>The Brands Queen Elizabeth, Prince Charles, and Prince Philip Swear By</th>\n",
              "      <th>Shop the notebooks, jackets, and more that the royals can't live without.</th>\n",
              "      <th>https://assets.msn.com/labs/mind/AAGH0ET.html</th>\n",
              "      <th>[{\"Label\": \"Prince Philip, Duke of Edinburgh\", \"Type\": \"P\", \"WikidataId\": \"Q80976\", \"Confidence\": 1.0, \"OccurrenceOffsets\": [48], \"SurfaceForms\": [\"Prince Philip\"]}, {\"Label\": \"Charles, Prince of Wales\", \"Type\": \"P\", \"WikidataId\": \"Q43274\", \"Confidence\": 1.0, \"OccurrenceOffsets\": [28], \"SurfaceForms\": [\"Prince Charles\"]}, {\"Label\": \"Elizabeth II\", \"Type\": \"P\", \"WikidataId\": \"Q9682\", \"Confidence\": 0.97, \"OccurrenceOffsets\": [11], \"SurfaceForms\": [\"Queen Elizabeth\"]}]</th>\n",
              "      <th>[]</th>\n",
              "    </tr>\n",
              "  </thead>\n",
              "  <tbody>\n",
              "    <tr>\n",
              "      <th>0</th>\n",
              "      <td>N19639</td>\n",
              "      <td>health</td>\n",
              "      <td>weightloss</td>\n",
              "      <td>50 Worst Habits For Belly Fat</td>\n",
              "      <td>These seemingly harmless habits are holding yo...</td>\n",
              "      <td>https://assets.msn.com/labs/mind/AAB19MK.html</td>\n",
              "      <td>[{\"Label\": \"Adipose tissue\", \"Type\": \"C\", \"Wik...</td>\n",
              "      <td>[{\"Label\": \"Adipose tissue\", \"Type\": \"C\", \"Wik...</td>\n",
              "    </tr>\n",
              "    <tr>\n",
              "      <th>1</th>\n",
              "      <td>N61837</td>\n",
              "      <td>news</td>\n",
              "      <td>newsworld</td>\n",
              "      <td>The Cost of Trump's Aid Freeze in the Trenches...</td>\n",
              "      <td>Lt. Ivan Molchanets peeked over a parapet of s...</td>\n",
              "      <td>https://assets.msn.com/labs/mind/AAJgNsz.html</td>\n",
              "      <td>[]</td>\n",
              "      <td>[{\"Label\": \"Ukraine\", \"Type\": \"G\", \"WikidataId...</td>\n",
              "    </tr>\n",
              "    <tr>\n",
              "      <th>2</th>\n",
              "      <td>N53526</td>\n",
              "      <td>health</td>\n",
              "      <td>voices</td>\n",
              "      <td>I Was An NBA Wife. Here's How It Affected My M...</td>\n",
              "      <td>I felt like I was a fraud, and being an NBA wi...</td>\n",
              "      <td>https://assets.msn.com/labs/mind/AACk2N6.html</td>\n",
              "      <td>[]</td>\n",
              "      <td>[{\"Label\": \"National Basketball Association\", ...</td>\n",
              "    </tr>\n",
              "    <tr>\n",
              "      <th>3</th>\n",
              "      <td>N38324</td>\n",
              "      <td>health</td>\n",
              "      <td>medical</td>\n",
              "      <td>How to Get Rid of Skin Tags, According to a De...</td>\n",
              "      <td>They seem harmless, but there's a very good re...</td>\n",
              "      <td>https://assets.msn.com/labs/mind/AAAKEkt.html</td>\n",
              "      <td>[{\"Label\": \"Skin tag\", \"Type\": \"C\", \"WikidataI...</td>\n",
              "      <td>[{\"Label\": \"Skin tag\", \"Type\": \"C\", \"WikidataI...</td>\n",
              "    </tr>\n",
              "    <tr>\n",
              "      <th>4</th>\n",
              "      <td>N2073</td>\n",
              "      <td>sports</td>\n",
              "      <td>football_nfl</td>\n",
              "      <td>Should NFL be able to fine players for critici...</td>\n",
              "      <td>Several fines came down against NFL players fo...</td>\n",
              "      <td>https://assets.msn.com/labs/mind/AAJ4lap.html</td>\n",
              "      <td>[{\"Label\": \"National Football League\", \"Type\":...</td>\n",
              "      <td>[{\"Label\": \"National Football League\", \"Type\":...</td>\n",
              "    </tr>\n",
              "  </tbody>\n",
              "</table>\n",
              "</div>\n",
              "    <div class=\"colab-df-buttons\">\n",
              "\n",
              "  <div class=\"colab-df-container\">\n",
              "    <button class=\"colab-df-convert\" onclick=\"convertToInteractive('df-97d0592d-1f5b-4b0b-a243-7b5a50f7eeb7')\"\n",
              "            title=\"Convert this dataframe to an interactive table.\"\n",
              "            style=\"display:none;\">\n",
              "\n",
              "  <svg xmlns=\"http://www.w3.org/2000/svg\" height=\"24px\" viewBox=\"0 -960 960 960\">\n",
              "    <path d=\"M120-120v-720h720v720H120Zm60-500h600v-160H180v160Zm220 220h160v-160H400v160Zm0 220h160v-160H400v160ZM180-400h160v-160H180v160Zm440 0h160v-160H620v160ZM180-180h160v-160H180v160Zm440 0h160v-160H620v160Z\"/>\n",
              "  </svg>\n",
              "    </button>\n",
              "\n",
              "  <style>\n",
              "    .colab-df-container {\n",
              "      display:flex;\n",
              "      gap: 12px;\n",
              "    }\n",
              "\n",
              "    .colab-df-convert {\n",
              "      background-color: #E8F0FE;\n",
              "      border: none;\n",
              "      border-radius: 50%;\n",
              "      cursor: pointer;\n",
              "      display: none;\n",
              "      fill: #1967D2;\n",
              "      height: 32px;\n",
              "      padding: 0 0 0 0;\n",
              "      width: 32px;\n",
              "    }\n",
              "\n",
              "    .colab-df-convert:hover {\n",
              "      background-color: #E2EBFA;\n",
              "      box-shadow: 0px 1px 2px rgba(60, 64, 67, 0.3), 0px 1px 3px 1px rgba(60, 64, 67, 0.15);\n",
              "      fill: #174EA6;\n",
              "    }\n",
              "\n",
              "    .colab-df-buttons div {\n",
              "      margin-bottom: 4px;\n",
              "    }\n",
              "\n",
              "    [theme=dark] .colab-df-convert {\n",
              "      background-color: #3B4455;\n",
              "      fill: #D2E3FC;\n",
              "    }\n",
              "\n",
              "    [theme=dark] .colab-df-convert:hover {\n",
              "      background-color: #434B5C;\n",
              "      box-shadow: 0px 1px 3px 1px rgba(0, 0, 0, 0.15);\n",
              "      filter: drop-shadow(0px 1px 2px rgba(0, 0, 0, 0.3));\n",
              "      fill: #FFFFFF;\n",
              "    }\n",
              "  </style>\n",
              "\n",
              "    <script>\n",
              "      const buttonEl =\n",
              "        document.querySelector('#df-97d0592d-1f5b-4b0b-a243-7b5a50f7eeb7 button.colab-df-convert');\n",
              "      buttonEl.style.display =\n",
              "        google.colab.kernel.accessAllowed ? 'block' : 'none';\n",
              "\n",
              "      async function convertToInteractive(key) {\n",
              "        const element = document.querySelector('#df-97d0592d-1f5b-4b0b-a243-7b5a50f7eeb7');\n",
              "        const dataTable =\n",
              "          await google.colab.kernel.invokeFunction('convertToInteractive',\n",
              "                                                    [key], {});\n",
              "        if (!dataTable) return;\n",
              "\n",
              "        const docLinkHtml = 'Like what you see? Visit the ' +\n",
              "          '<a target=\"_blank\" href=https://colab.research.google.com/notebooks/data_table.ipynb>data table notebook</a>'\n",
              "          + ' to learn more about interactive tables.';\n",
              "        element.innerHTML = '';\n",
              "        dataTable['output_type'] = 'display_data';\n",
              "        await google.colab.output.renderOutput(dataTable, element);\n",
              "        const docLink = document.createElement('div');\n",
              "        docLink.innerHTML = docLinkHtml;\n",
              "        element.appendChild(docLink);\n",
              "      }\n",
              "    </script>\n",
              "  </div>\n",
              "\n",
              "\n",
              "<div id=\"df-4978954d-9617-4301-aa38-a5ef2446d0a7\">\n",
              "  <button class=\"colab-df-quickchart\" onclick=\"quickchart('df-4978954d-9617-4301-aa38-a5ef2446d0a7')\"\n",
              "            title=\"Suggest charts\"\n",
              "            style=\"display:none;\">\n",
              "\n",
              "<svg xmlns=\"http://www.w3.org/2000/svg\" height=\"24px\"viewBox=\"0 0 24 24\"\n",
              "     width=\"24px\">\n",
              "    <g>\n",
              "        <path d=\"M19 3H5c-1.1 0-2 .9-2 2v14c0 1.1.9 2 2 2h14c1.1 0 2-.9 2-2V5c0-1.1-.9-2-2-2zM9 17H7v-7h2v7zm4 0h-2V7h2v10zm4 0h-2v-4h2v4z\"/>\n",
              "    </g>\n",
              "</svg>\n",
              "  </button>\n",
              "\n",
              "<style>\n",
              "  .colab-df-quickchart {\n",
              "      --bg-color: #E8F0FE;\n",
              "      --fill-color: #1967D2;\n",
              "      --hover-bg-color: #E2EBFA;\n",
              "      --hover-fill-color: #174EA6;\n",
              "      --disabled-fill-color: #AAA;\n",
              "      --disabled-bg-color: #DDD;\n",
              "  }\n",
              "\n",
              "  [theme=dark] .colab-df-quickchart {\n",
              "      --bg-color: #3B4455;\n",
              "      --fill-color: #D2E3FC;\n",
              "      --hover-bg-color: #434B5C;\n",
              "      --hover-fill-color: #FFFFFF;\n",
              "      --disabled-bg-color: #3B4455;\n",
              "      --disabled-fill-color: #666;\n",
              "  }\n",
              "\n",
              "  .colab-df-quickchart {\n",
              "    background-color: var(--bg-color);\n",
              "    border: none;\n",
              "    border-radius: 50%;\n",
              "    cursor: pointer;\n",
              "    display: none;\n",
              "    fill: var(--fill-color);\n",
              "    height: 32px;\n",
              "    padding: 0;\n",
              "    width: 32px;\n",
              "  }\n",
              "\n",
              "  .colab-df-quickchart:hover {\n",
              "    background-color: var(--hover-bg-color);\n",
              "    box-shadow: 0 1px 2px rgba(60, 64, 67, 0.3), 0 1px 3px 1px rgba(60, 64, 67, 0.15);\n",
              "    fill: var(--button-hover-fill-color);\n",
              "  }\n",
              "\n",
              "  .colab-df-quickchart-complete:disabled,\n",
              "  .colab-df-quickchart-complete:disabled:hover {\n",
              "    background-color: var(--disabled-bg-color);\n",
              "    fill: var(--disabled-fill-color);\n",
              "    box-shadow: none;\n",
              "  }\n",
              "\n",
              "  .colab-df-spinner {\n",
              "    border: 2px solid var(--fill-color);\n",
              "    border-color: transparent;\n",
              "    border-bottom-color: var(--fill-color);\n",
              "    animation:\n",
              "      spin 1s steps(1) infinite;\n",
              "  }\n",
              "\n",
              "  @keyframes spin {\n",
              "    0% {\n",
              "      border-color: transparent;\n",
              "      border-bottom-color: var(--fill-color);\n",
              "      border-left-color: var(--fill-color);\n",
              "    }\n",
              "    20% {\n",
              "      border-color: transparent;\n",
              "      border-left-color: var(--fill-color);\n",
              "      border-top-color: var(--fill-color);\n",
              "    }\n",
              "    30% {\n",
              "      border-color: transparent;\n",
              "      border-left-color: var(--fill-color);\n",
              "      border-top-color: var(--fill-color);\n",
              "      border-right-color: var(--fill-color);\n",
              "    }\n",
              "    40% {\n",
              "      border-color: transparent;\n",
              "      border-right-color: var(--fill-color);\n",
              "      border-top-color: var(--fill-color);\n",
              "    }\n",
              "    60% {\n",
              "      border-color: transparent;\n",
              "      border-right-color: var(--fill-color);\n",
              "    }\n",
              "    80% {\n",
              "      border-color: transparent;\n",
              "      border-right-color: var(--fill-color);\n",
              "      border-bottom-color: var(--fill-color);\n",
              "    }\n",
              "    90% {\n",
              "      border-color: transparent;\n",
              "      border-bottom-color: var(--fill-color);\n",
              "    }\n",
              "  }\n",
              "</style>\n",
              "\n",
              "  <script>\n",
              "    async function quickchart(key) {\n",
              "      const quickchartButtonEl =\n",
              "        document.querySelector('#' + key + ' button');\n",
              "      quickchartButtonEl.disabled = true;  // To prevent multiple clicks.\n",
              "      quickchartButtonEl.classList.add('colab-df-spinner');\n",
              "      try {\n",
              "        const charts = await google.colab.kernel.invokeFunction(\n",
              "            'suggestCharts', [key], {});\n",
              "      } catch (error) {\n",
              "        console.error('Error during call to suggestCharts:', error);\n",
              "      }\n",
              "      quickchartButtonEl.classList.remove('colab-df-spinner');\n",
              "      quickchartButtonEl.classList.add('colab-df-quickchart-complete');\n",
              "    }\n",
              "    (() => {\n",
              "      let quickchartButtonEl =\n",
              "        document.querySelector('#df-4978954d-9617-4301-aa38-a5ef2446d0a7 button');\n",
              "      quickchartButtonEl.style.display =\n",
              "        google.colab.kernel.accessAllowed ? 'block' : 'none';\n",
              "    })();\n",
              "  </script>\n",
              "</div>\n",
              "\n",
              "    </div>\n",
              "  </div>\n"
            ],
            "application/vnd.google.colaboratory.intrinsic+json": {
              "type": "dataframe",
              "variable_name": "df",
              "summary": "{\n  \"name\": \"df\",\n  \"rows\": 36422,\n  \"fields\": [\n    {\n      \"column\": \" N55528\",\n      \"properties\": {\n        \"dtype\": \"string\",\n        \"num_unique_values\": 36422,\n        \"samples\": [\n          \"N33418\",\n          \"N61392\",\n          \"N55740\"\n        ],\n        \"semantic_type\": \"\",\n        \"description\": \"\"\n      }\n    },\n    {\n      \"column\": \"lifestyle\",\n      \"properties\": {\n        \"dtype\": \"category\",\n        \"num_unique_values\": 17,\n        \"samples\": [\n          \"health\",\n          \"news\",\n          \"autos\"\n        ],\n        \"semantic_type\": \"\",\n        \"description\": \"\"\n      }\n    },\n    {\n      \"column\": \"lifestyleroyals\",\n      \"properties\": {\n        \"dtype\": \"category\",\n        \"num_unique_values\": 245,\n        \"samples\": [\n          \"basketball_nba\",\n          \"gaming\",\n          \"autoshybrids\"\n        ],\n        \"semantic_type\": \"\",\n        \"description\": \"\"\n      }\n    },\n    {\n      \"column\": \"The Brands Queen Elizabeth, Prince Charles, and Prince Philip Swear By\",\n      \"properties\": {\n        \"dtype\": \"string\",\n        \"num_unique_values\": 35926,\n        \"samples\": [\n          \"12 eerily accurate financial predictions from the past 25 years\",\n          \"Homestead Police: 2-Year-Old Jesmine Cedillo-Ramirez Found Safe, Father Still On The Run\",\n          \"Fairfield police search for suspect in officer-involved shooting\"\n        ],\n        \"semantic_type\": \"\",\n        \"description\": \"\"\n      }\n    },\n    {\n      \"column\": \"Shop the notebooks, jackets, and more that the royals can't live without.\",\n      \"properties\": {\n        \"dtype\": \"string\",\n        \"num_unique_values\": 33753,\n        \"samples\": [\n          \"Whoa.\",\n          \"Challenge accepted!\",\n          \"Images showing a mysterious circular gap that appeared in the clouds over a North Carolina highway have ignited a scramble for explanations on social media, including the possibility it was created by a UFO. North Carolina TV station WBTV was the first to post a photo on Monday, with an explanation that viewer Phil Lambert of Lenoir submitted the photo taken on Old Mountain Road in ...\"\n        ],\n        \"semantic_type\": \"\",\n        \"description\": \"\"\n      }\n    },\n    {\n      \"column\": \"https://assets.msn.com/labs/mind/AAGH0ET.html\",\n      \"properties\": {\n        \"dtype\": \"string\",\n        \"num_unique_values\": 36422,\n        \"samples\": [\n          \"https://assets.msn.com/labs/mind/AAIJ3nZ.html\",\n          \"https://assets.msn.com/labs/mind/BBWBUmz.html\",\n          \"https://assets.msn.com/labs/mind/BBWvdwP.html\"\n        ],\n        \"semantic_type\": \"\",\n        \"description\": \"\"\n      }\n    },\n    {\n      \"column\": \"[{\\\"Label\\\": \\\"Prince Philip, Duke of Edinburgh\\\", \\\"Type\\\": \\\"P\\\", \\\"WikidataId\\\": \\\"Q80976\\\", \\\"Confidence\\\": 1.0, \\\"OccurrenceOffsets\\\": [48], \\\"SurfaceForms\\\": [\\\"Prince Philip\\\"]}, {\\\"Label\\\": \\\"Charles, Prince of Wales\\\", \\\"Type\\\": \\\"P\\\", \\\"WikidataId\\\": \\\"Q43274\\\", \\\"Confidence\\\": 1.0, \\\"OccurrenceOffsets\\\": [28], \\\"SurfaceForms\\\": [\\\"Prince Charles\\\"]}, {\\\"Label\\\": \\\"Elizabeth II\\\", \\\"Type\\\": \\\"P\\\", \\\"WikidataId\\\": \\\"Q9682\\\", \\\"Confidence\\\": 0.97, \\\"OccurrenceOffsets\\\": [11], \\\"SurfaceForms\\\": [\\\"Queen Elizabeth\\\"]}]\",\n      \"properties\": {\n        \"dtype\": \"string\",\n        \"num_unique_values\": 24763,\n        \"samples\": [\n          \"[{\\\"Label\\\": \\\"Seattle NHL team\\\", \\\"Type\\\": \\\"N\\\", \\\"WikidataId\\\": \\\"Q59422166\\\", \\\"Confidence\\\": 1.0, \\\"OccurrenceOffsets\\\": [35], \\\"SurfaceForms\\\": [\\\"NHL Seattle\\\"]}, {\\\"Label\\\": \\\"Space Needle\\\", \\\"Type\\\": \\\"F\\\", \\\"WikidataId\\\": \\\"Q5317\\\", \\\"Confidence\\\": 1.0, \\\"OccurrenceOffsets\\\": [0], \\\"SurfaceForms\\\": [\\\"Space Needle\\\"]}]\",\n          \"[{\\\"Label\\\": \\\"Mercedes-AMG\\\", \\\"Type\\\": \\\"O\\\", \\\"WikidataId\\\": \\\"Q26966\\\", \\\"Confidence\\\": 1.0, \\\"OccurrenceOffsets\\\": [11], \\\"SurfaceForms\\\": [\\\"Mercedes-AMG\\\"]}]\",\n          \"[{\\\"Label\\\": \\\"Police dog\\\", \\\"Type\\\": \\\"C\\\", \\\"WikidataId\\\": \\\"Q39235\\\", \\\"Confidence\\\": 0.985, \\\"OccurrenceOffsets\\\": [63], \\\"SurfaceForms\\\": [\\\"K9\\\"]}, {\\\"Label\\\": \\\"Fort Collins, Colorado\\\", \\\"Type\\\": \\\"G\\\", \\\"WikidataId\\\": \\\"Q490732\\\", \\\"Confidence\\\": 1.0, \\\"OccurrenceOffsets\\\": [0], \\\"SurfaceForms\\\": [\\\"Fort Collins\\\"]}]\"\n        ],\n        \"semantic_type\": \"\",\n        \"description\": \"\"\n      }\n    },\n    {\n      \"column\": \"[]\",\n      \"properties\": {\n        \"dtype\": \"string\",\n        \"num_unique_values\": 25881,\n        \"samples\": [\n          \"[{\\\"Label\\\": \\\"Tempe, Arizona\\\", \\\"Type\\\": \\\"G\\\", \\\"WikidataId\\\": \\\"Q51685\\\", \\\"Confidence\\\": 1.0, \\\"OccurrenceOffsets\\\": [97], \\\"SurfaceForms\\\": [\\\"Tempe\\\"]}, {\\\"Label\\\": \\\"Salt River (Arizona)\\\", \\\"Type\\\": \\\"L\\\", \\\"WikidataId\\\": \\\"Q1341271\\\", \\\"Confidence\\\": 0.995, \\\"OccurrenceOffsets\\\": [83], \\\"SurfaceForms\\\": [\\\"Rio Salado\\\"]}]\",\n          \"[{\\\"Label\\\": \\\"Anna Faris\\\", \\\"Type\\\": \\\"P\\\", \\\"WikidataId\\\": \\\"Q4491\\\", \\\"Confidence\\\": 1.0, \\\"OccurrenceOffsets\\\": [8], \\\"SurfaceForms\\\": [\\\"Anna Faris\\\"]}, {\\\"Label\\\": \\\"Michael Barrett (cinematographer)\\\", \\\"Type\\\": \\\"U\\\", \\\"WikidataId\\\": \\\"Q17093945\\\", \\\"Confidence\\\": 0.971, \\\"OccurrenceOffsets\\\": [76], \\\"SurfaceForms\\\": [\\\"Michael Barrett\\\"]}, {\\\"Label\\\": \\\"Mom (TV series)\\\", \\\"Type\\\": \\\"W\\\", \\\"WikidataId\\\": \\\"Q13417213\\\", \\\"Confidence\\\": 0.95, \\\"OccurrenceOffsets\\\": [142], \\\"SurfaceForms\\\": [\\\"Mom\\\"]}]\",\n          \"[{\\\"Label\\\": \\\"Jane Fonda\\\", \\\"Type\\\": \\\"P\\\", \\\"WikidataId\\\": \\\"Q41142\\\", \\\"Confidence\\\": 1.0, \\\"OccurrenceOffsets\\\": [8, 221, 412], \\\"SurfaceForms\\\": [\\\"Jane Fonda\\\", \\\"Fonda\\\", \\\"Fonda\\\"]}, {\\\"Label\\\": \\\"Superior Court of the District of Columbia\\\", \\\"Type\\\": \\\"U\\\", \\\"WikidataId\\\": \\\"Q7643519\\\", \\\"Confidence\\\": 1.0, \\\"OccurrenceOffsets\\\": [352], \\\"SurfaceForms\\\": [\\\"D.C. Superior Court\\\"]}, {\\\"Label\\\": \\\"United States Capitol Police\\\", \\\"Type\\\": \\\"O\\\", \\\"WikidataId\\\": \\\"Q1789541\\\", \\\"Confidence\\\": 1.0, \\\"OccurrenceOffsets\\\": [287], \\\"SurfaceForms\\\": [\\\"U.S. Capitol Police\\\"]}]\"\n        ],\n        \"semantic_type\": \"\",\n        \"description\": \"\"\n      }\n    }\n  ]\n}"
            }
          },
          "metadata": {},
          "execution_count": 48
        }
      ]
    },
    {
      "cell_type": "code",
      "source": [
        "print(df.isnull())"
      ],
      "metadata": {
        "colab": {
          "base_uri": "https://localhost:8080/"
        },
        "id": "g0gRn1_sFOgl",
        "outputId": "8a70289d-8055-4533-f543-7a3ac40e4d82"
      },
      "execution_count": null,
      "outputs": [
        {
          "output_type": "stream",
          "name": "stdout",
          "text": [
            "        N55528  lifestyle  lifestyleroyals  \\\n",
            "0        False      False            False   \n",
            "1        False      False            False   \n",
            "2        False      False            False   \n",
            "3        False      False            False   \n",
            "4        False      False            False   \n",
            "...        ...        ...              ...   \n",
            "36417    False      False            False   \n",
            "36418    False      False            False   \n",
            "36419    False      False            False   \n",
            "36420    False      False            False   \n",
            "36421    False      False            False   \n",
            "\n",
            "       The Brands Queen Elizabeth, Prince Charles, and Prince Philip Swear By  \\\n",
            "0                                                  False                        \n",
            "1                                                  False                        \n",
            "2                                                  False                        \n",
            "3                                                  False                        \n",
            "4                                                  False                        \n",
            "...                                                  ...                        \n",
            "36417                                              False                        \n",
            "36418                                              False                        \n",
            "36419                                              False                        \n",
            "36420                                              False                        \n",
            "36421                                              False                        \n",
            "\n",
            "       Shop the notebooks, jackets, and more that the royals can't live without.  \\\n",
            "0                                                  False                           \n",
            "1                                                  False                           \n",
            "2                                                  False                           \n",
            "3                                                  False                           \n",
            "4                                                  False                           \n",
            "...                                                  ...                           \n",
            "36417                                              False                           \n",
            "36418                                               True                           \n",
            "36419                                              False                           \n",
            "36420                                              False                           \n",
            "36421                                               True                           \n",
            "\n",
            "       https://assets.msn.com/labs/mind/AAGH0ET.html  \\\n",
            "0                                              False   \n",
            "1                                              False   \n",
            "2                                              False   \n",
            "3                                              False   \n",
            "4                                              False   \n",
            "...                                              ...   \n",
            "36417                                          False   \n",
            "36418                                          False   \n",
            "36419                                          False   \n",
            "36420                                          False   \n",
            "36421                                          False   \n",
            "\n",
            "       [{\"Label\": \"Prince Philip, Duke of Edinburgh\", \"Type\": \"P\", \"WikidataId\": \"Q80976\", \"Confidence\": 1.0, \"OccurrenceOffsets\": [48], \"SurfaceForms\": [\"Prince Philip\"]}, {\"Label\": \"Charles, Prince of Wales\", \"Type\": \"P\", \"WikidataId\": \"Q43274\", \"Confidence\": 1.0, \"OccurrenceOffsets\": [28], \"SurfaceForms\": [\"Prince Charles\"]}, {\"Label\": \"Elizabeth II\", \"Type\": \"P\", \"WikidataId\": \"Q9682\", \"Confidence\": 0.97, \"OccurrenceOffsets\": [11], \"SurfaceForms\": [\"Queen Elizabeth\"]}]  \\\n",
            "0                                                  False                                                                                                                                                                                                                                                                                                                                                                                                                                        \n",
            "1                                                  False                                                                                                                                                                                                                                                                                                                                                                                                                                        \n",
            "2                                                  False                                                                                                                                                                                                                                                                                                                                                                                                                                        \n",
            "3                                                  False                                                                                                                                                                                                                                                                                                                                                                                                                                        \n",
            "4                                                  False                                                                                                                                                                                                                                                                                                                                                                                                                                        \n",
            "...                                                  ...                                                                                                                                                                                                                                                                                                                                                                                                                                        \n",
            "36417                                              False                                                                                                                                                                                                                                                                                                                                                                                                                                        \n",
            "36418                                              False                                                                                                                                                                                                                                                                                                                                                                                                                                        \n",
            "36419                                              False                                                                                                                                                                                                                                                                                                                                                                                                                                        \n",
            "36420                                              False                                                                                                                                                                                                                                                                                                                                                                                                                                        \n",
            "36421                                              False                                                                                                                                                                                                                                                                                                                                                                                                                                        \n",
            "\n",
            "          []  \n",
            "0      False  \n",
            "1      False  \n",
            "2      False  \n",
            "3      False  \n",
            "4      False  \n",
            "...      ...  \n",
            "36417  False  \n",
            "36418  False  \n",
            "36419  False  \n",
            "36420  False  \n",
            "36421  False  \n",
            "\n",
            "[36422 rows x 8 columns]\n"
          ]
        }
      ]
    },
    {
      "cell_type": "code",
      "source": [
        "# Display the number of rows\n",
        "print(\"Number of rows:\", df.shape[0])\n",
        "\n",
        "# Alternatively, to see both rows and columns\n",
        "print(\"Number of rows and columns:\", df.shape)\n"
      ],
      "metadata": {
        "colab": {
          "base_uri": "https://localhost:8080/"
        },
        "id": "4Ai35a0FEH2C",
        "outputId": "5bccaae7-2a8b-49c0-c199-bacd971a933c"
      },
      "execution_count": null,
      "outputs": [
        {
          "output_type": "stream",
          "name": "stdout",
          "text": [
            "Number of rows: 36422\n",
            "Number of rows and columns: (36422, 8)\n"
          ]
        }
      ]
    },
    {
      "cell_type": "code",
      "source": [
        "df.info()"
      ],
      "metadata": {
        "colab": {
          "base_uri": "https://localhost:8080/"
        },
        "id": "S3HDGLUO9bQ2",
        "outputId": "6b3da391-184d-4ba3-d03e-20872e6a962f"
      },
      "execution_count": null,
      "outputs": [
        {
          "output_type": "stream",
          "name": "stdout",
          "text": [
            "<class 'pandas.core.frame.DataFrame'>\n",
            "RangeIndex: 36422 entries, 0 to 36421\n",
            "Data columns (total 8 columns):\n",
            " #   Column                                                                                                                                                                                                                                                                                                                                                                                                                                                                                  Non-Null Count  Dtype \n",
            "---  ------                                                                                                                                                                                                                                                                                                                                                                                                                                                                                  --------------  ----- \n",
            " 0    N55528                                                                                                                                                                                                                                                                                                                                                                                                                                                                                 36422 non-null  object\n",
            " 1   lifestyle                                                                                                                                                                                                                                                                                                                                                                                                                                                                               36422 non-null  object\n",
            " 2   lifestyleroyals                                                                                                                                                                                                                                                                                                                                                                                                                                                                         36422 non-null  object\n",
            " 3   The Brands Queen Elizabeth, Prince Charles, and Prince Philip Swear By                                                                                                                                                                                                                                                                                                                                                                                                                  36422 non-null  object\n",
            " 4   Shop the notebooks, jackets, and more that the royals can't live without.                                                                                                                                                                                                                                                                                                                                                                                                               34544 non-null  object\n",
            " 5   https://assets.msn.com/labs/mind/AAGH0ET.html                                                                                                                                                                                                                                                                                                                                                                                                                                           36422 non-null  object\n",
            " 6   [{\"Label\": \"Prince Philip, Duke of Edinburgh\", \"Type\": \"P\", \"WikidataId\": \"Q80976\", \"Confidence\": 1.0, \"OccurrenceOffsets\": [48], \"SurfaceForms\": [\"Prince Philip\"]}, {\"Label\": \"Charles, Prince of Wales\", \"Type\": \"P\", \"WikidataId\": \"Q43274\", \"Confidence\": 1.0, \"OccurrenceOffsets\": [28], \"SurfaceForms\": [\"Prince Charles\"]}, {\"Label\": \"Elizabeth II\", \"Type\": \"P\", \"WikidataId\": \"Q9682\", \"Confidence\": 0.97, \"OccurrenceOffsets\": [11], \"SurfaceForms\": [\"Queen Elizabeth\"]}]  36422 non-null  object\n",
            " 7   []                                                                                                                                                                                                                                                                                                                                                                                                                                                                                      36400 non-null  object\n",
            "dtypes: object(8)\n",
            "memory usage: 2.2+ MB\n"
          ]
        }
      ]
    },
    {
      "cell_type": "code",
      "source": [
        "print(df.columns)"
      ],
      "metadata": {
        "colab": {
          "base_uri": "https://localhost:8080/"
        },
        "id": "0tAjOFt59k97",
        "outputId": "f77eb3a7-4f95-49a7-970d-2cf18dfc70d8"
      },
      "execution_count": null,
      "outputs": [
        {
          "output_type": "stream",
          "name": "stdout",
          "text": [
            "Index([' N55528', 'lifestyle', 'lifestyleroyals',\n",
            "       'The Brands Queen Elizabeth, Prince Charles, and Prince Philip Swear By',\n",
            "       'Shop the notebooks, jackets, and more that the royals can't live without.',\n",
            "       'https://assets.msn.com/labs/mind/AAGH0ET.html',\n",
            "       '[{\"Label\": \"Prince Philip, Duke of Edinburgh\", \"Type\": \"P\", \"WikidataId\": \"Q80976\", \"Confidence\": 1.0, \"OccurrenceOffsets\": [48], \"SurfaceForms\": [\"Prince Philip\"]}, {\"Label\": \"Charles, Prince of Wales\", \"Type\": \"P\", \"WikidataId\": \"Q43274\", \"Confidence\": 1.0, \"OccurrenceOffsets\": [28], \"SurfaceForms\": [\"Prince Charles\"]}, {\"Label\": \"Elizabeth II\", \"Type\": \"P\", \"WikidataId\": \"Q9682\", \"Confidence\": 0.97, \"OccurrenceOffsets\": [11], \"SurfaceForms\": [\"Queen Elizabeth\"]}]',\n",
            "       '[]'],\n",
            "      dtype='object')\n"
          ]
        }
      ]
    },
    {
      "cell_type": "code",
      "source": [
        "tfidf = TfidfVectorizer(stop_words=\"english\")\n",
        "tfidf_matrix = tfidf.fit_transform(df['lifestyle'])"
      ],
      "metadata": {
        "id": "bl5S4exI-QvU"
      },
      "execution_count": null,
      "outputs": []
    },
    {
      "cell_type": "code",
      "source": [
        "# Try with a smaller sample, say the first 100 rows, to test the code\n",
        "cosine_sim = cosine_similarity(tfidf_matrix[:100], tfidf_matrix[:100])\n",
        "print(cosine_sim)\n",
        "\n"
      ],
      "metadata": {
        "colab": {
          "base_uri": "https://localhost:8080/"
        },
        "id": "lQBAsumi_RYd",
        "outputId": "2977a2e9-47ed-4469-ecf8-033a022647ca"
      },
      "execution_count": null,
      "outputs": [
        {
          "output_type": "stream",
          "name": "stdout",
          "text": [
            "[[1. 0. 1. ... 0. 0. 1.]\n",
            " [0. 1. 0. ... 0. 0. 0.]\n",
            " [1. 0. 1. ... 0. 0. 1.]\n",
            " ...\n",
            " [0. 0. 0. ... 1. 0. 0.]\n",
            " [0. 0. 0. ... 0. 1. 0.]\n",
            " [1. 0. 1. ... 0. 0. 1.]]\n"
          ]
        }
      ]
    },
    {
      "cell_type": "code",
      "source": [
        "# Function to recommend articles\n",
        "def recommend_articles(title, cosine_sim=cosine_sim, df=df):\n",
        "    # Get the index of the article with the matching title\n",
        "    idx = df[df['lifestyleroyals'] == title].index[0]\n",
        "\n",
        "    # Get similarity scores for this article and sort them\n",
        "    sim_scores = list(enumerate(cosine_sim[idx]))\n",
        "    sim_scores = sorted(sim_scores, key=lambda x: x[1], reverse=True)\n",
        "\n",
        "    # Get indices of the most similar articles\n",
        "    top_articles = [i[0] for i in sim_scores[1:6]]  # Top 5 recommendations\n",
        "\n",
        "    # Return the titles of the recommended articles\n",
        "    return df['lifestyleroyals'].iloc[top_articles]\n"
      ],
      "metadata": {
        "id": "bbgH6TB5A6BZ"
      },
      "execution_count": null,
      "outputs": []
    },
    {
      "cell_type": "code",
      "source": [
        "# Test the recommendation function\n",
        "recommended_articles = recommend_articles(\"football_nfl\")  # Replace with an actual title from your dataset\n",
        "print(recommended_articles)"
      ],
      "metadata": {
        "colab": {
          "base_uri": "https://localhost:8080/"
        },
        "id": "xMz14HtNBBkb",
        "outputId": "458b9b65-1665-4f4e-c003-dc7cb24e6831"
      },
      "execution_count": null,
      "outputs": [
        {
          "output_type": "stream",
          "name": "stdout",
          "text": [
            "18       football_nfl\n",
            "23               golf\n",
            "36     basketball_nba\n",
            "44    basketball_ncaa\n",
            "47               golf\n",
            "Name: lifestyleroyals, dtype: object\n"
          ]
        }
      ]
    }
  ]
}